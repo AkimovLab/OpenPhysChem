{
 "cells": [
  {
   "cell_type": "markdown",
   "id": "c2cf719d-9735-4160-bf22-455666f35e37",
   "metadata": {},
   "source": [
    "# **Thermodynamic potentials. Maxwell’s equations.**\n",
    "\n",
    "# 1. Theory"
   ]
  },
  {
   "cell_type": "markdown",
   "id": "2fe7c393-13a9-4c99-a113-b64069329848",
   "metadata": {},
   "source": [
    "# 2. Examples"
   ]
  },
  {
   "cell_type": "markdown",
   "id": "170e47f4-f05e-4b62-9daa-20bbc252c027",
   "metadata": {},
   "source": [
    "## 2.1. [Eremin Example 5-1]\n",
    "\n",
    "Internal energy of a system is given as a function of its entropy and volume, $U(S,V)$. Compute themperature and heat capacity of this system."
   ]
  },
  {
   "cell_type": "code",
   "execution_count": null,
   "id": "74ae4d1f-cfd0-46e2-bf3a-c3544dc03027",
   "metadata": {},
   "outputs": [],
   "source": []
  },
  {
   "cell_type": "markdown",
   "id": "6c2eca69-c9d6-47ec-8375-a248f4f13091",
   "metadata": {},
   "source": [
    "## 2.2. [Eremin Example 5-2]\n",
    "\n",
    "Using the fundamental equations of thermodynamics, find the dependence of enthalpy on pressure at constant temperature: a) for an arbitrary system; b) for the ideal gas."
   ]
  },
  {
   "cell_type": "code",
   "execution_count": null,
   "id": "511ea33c-9e67-4719-ba91-356bf21edf25",
   "metadata": {},
   "outputs": [],
   "source": []
  },
  {
   "cell_type": "markdown",
   "id": "d784c390-95f5-4afa-bb5e-d3e331052f01",
   "metadata": {},
   "source": [
    "## 2.3. \n",
    "\n",
    "Using the fundamental equations of thermodynamics, derive the Gibbs-Helmholtz equations"
   ]
  },
  {
   "cell_type": "markdown",
   "id": "0ba23098-cdee-423d-a2c9-6115009cd9e7",
   "metadata": {},
   "source": [
    "## 2.4. [Eremin Example 5-3]\n",
    "\n",
    "Express the derivatives $(\\frac{\\partial S}{\\partial U})_V$ and $(\\frac{\\partial S}{\\partial V})_U$ via other thermodynamic parameters"
   ]
  },
  {
   "cell_type": "markdown",
   "id": "a559d4b1-4d2e-49ef-8b05-b74446ac9873",
   "metadata": {},
   "source": [
    "## 2.5. [Eremin Example 5-4]\n",
    "\n",
    "Two moles of helium are heated from 100 to 200 Celsius under pressure of p = 1 atm. Assuming He behaves as an ideal gas, compute the change of Gibbs' free energy in this process. It is known that $S_{373}^{\\theta} = 131.7$ J/(mol*K)."
   ]
  },
  {
   "cell_type": "markdown",
   "id": "ee30d392-a38b-490f-9029-f0823ecc9ba5",
   "metadata": {},
   "source": [
    "# 3. Problems"
   ]
  },
  {
   "cell_type": "markdown",
   "id": "65a36551-da48-4d8f-ad38-161c9faf5b32",
   "metadata": {},
   "source": [
    "# 4. Answers"
   ]
  },
  {
   "cell_type": "code",
   "execution_count": null,
   "id": "3d55d25c-fbdf-4147-8930-341553df688a",
   "metadata": {},
   "outputs": [],
   "source": []
  }
 ],
 "metadata": {
  "kernelspec": {
   "display_name": "Python 3 (ipykernel)",
   "language": "python",
   "name": "python3"
  },
  "language_info": {
   "codemirror_mode": {
    "name": "ipython",
    "version": 3
   },
   "file_extension": ".py",
   "mimetype": "text/x-python",
   "name": "python",
   "nbconvert_exporter": "python",
   "pygments_lexer": "ipython3",
   "version": "3.9.19"
  }
 },
 "nbformat": 4,
 "nbformat_minor": 5
}
