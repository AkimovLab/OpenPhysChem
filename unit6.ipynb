{
 "cells": [
  {
   "cell_type": "markdown",
   "id": "c2cf719d-9735-4160-bf22-455666f35e37",
   "metadata": {},
   "source": [
    "# **Thermodynamic potentials. Fundamental equations of Thermodynamics. Maxwell’s equations.**\n",
    "\n",
    "# 1. Theory [ChatGPT + AVA]\n",
    "\n",
    "## Thermodynamic Potentials\n",
    "\n",
    "Thermodynamic potentials are scalar quantities that provide useful ways to describe the state of a thermodynamic system. These potentials are functions of different natural variables and can be used to derive important relationships between thermodynamic properties. The four primary thermodynamic potentials are:\n",
    "\n",
    "   - **Internal Energy** ($U = U(S, V)$)\n",
    "   - **Enthalpy** ($H(S, P) = U + PV$)\n",
    "   - **Helmholtz Free Energy** ($F(T, V) = U - TS$)\n",
    "   - **Gibbs Free Energy** ($G(T, P) = H - TS$)\n",
    "\n",
    "Each thermodynamic potential has a specific set of **natural variables**, which are the variables that it is most conveniently expressed in terms of:\n",
    "\n",
    "| Potential | Natural Variables | Spontaneity condition | Equilibrium conditions | Physical meaning (Importance) |\n",
    "|  ---      | ---               | ---                   | ---                    | ---     |\n",
    "| U         | S, V              | dU < 0                |  dU = 0, d2U > 0       | The total energy contained within a system |\n",
    "| H         | S, P              | dH < 0                |  dH = 0, d2H > 0       | The total heat content of a system that can be released under constant pressure |\n",
    "| F         | T, V              | dF < 0                |  dF = 0, d2F > 0       | Work obtainable from a closed system at constant temperature. |\n",
    "| G         | T, P              | dG < 0                |  dG = 0, d2G > 0       | The maximum reversible work obtainable from a closed system at constant temperature and pressure. |\n",
    "\n",
    "## Fundamental equations of Thermodynamics.\n",
    "\n",
    "$dU = TdS − PdV$\n",
    "\n",
    "$dH = TdS + VdP$\n",
    "\n",
    "$dF = −SdT − PdV$\n",
    "\n",
    "$dG = −SdT + VdP$\n",
    "\n",
    "As a consequence:\n",
    "\n",
    "1. From the Internal energy:\n",
    "\n",
    "$(\\frac{\\partial U}{\\partial S})_V = T$\n",
    "\n",
    "$(\\frac{\\partial U}{\\partial V})_S = -P$\n",
    "\n",
    "2. From the enthalpy:\n",
    "   \n",
    "$(\\frac{\\partial H}{\\partial S})_P = T$\n",
    "\n",
    "$(\\frac{\\partial H}{\\partial P})_S = V$\n",
    "\n",
    "3. From the Helmholtz free energy:\n",
    "\n",
    "$(\\frac{\\partial F}{\\partial T})_V = -S$\n",
    "\n",
    "$(\\frac{\\partial F}{\\partial V})_T = -P$\n",
    "\n",
    "4. From the Gibbs free energy:\n",
    "\n",
    "$(\\frac{\\partial G}{\\partial T})_P = -S$\n",
    "\n",
    "$(\\frac{\\partial G}{\\partial P})_T = V$\n",
    "\n",
    "\n",
    "## Maxwell's Relations\n",
    "\n",
    "Maxwell's relations are a set of equations derived from the second derivatives of thermodynamic potentials. They provide a connection between different thermodynamic quantities and are very useful in solving problems in thermodynamics.\n",
    "\n",
    "These relations arise from the fact that the mixed second derivatives of a state function are equal. For example, for a function $f(x,y)$, we have:\n",
    "$ \\frac{\\partial^2f}{\\partial x \\partial y} = \\frac{\\partial^2f}{\\partial y \\partial x} $\n",
    "\n",
    "Applying this idea to the thermodynamic potentials, we obtain the Maxwell relations:\n",
    "\n",
    "1. From the Internal Energy $U(S,V)$:\n",
    "\n",
    "$(\\frac{ \\partial T}{\\partial V})_S = -(\\frac{ \\partial P}{\\partial S})_V$\n",
    "\n",
    "2. From the Enthalpy $H(S,P)$:\n",
    "\n",
    "$(\\frac{ \\partial T}{\\partial P})_S = (\\frac{ \\partial V}{\\partial S})_P$\n",
    "\n",
    "3. From the Helmholtz Free Energy $F(T,V)$:\n",
    "\n",
    "$(\\frac{ \\partial S}{\\partial V})_T = (\\frac{ \\partial P}{\\partial T})_V$\n",
    "\n",
    "4. From the Gibbs Free Energy $G(T,P)$:\n",
    "\n",
    "$(\\frac{ \\partial S}{\\partial P})_T = -(\\frac{ \\partial V}{\\partial T})_P$\n",
    "\n",
    "\n",
    "## Gibbs-Helmholtz equations\n",
    "\n",
    "$(\\frac{\\partial (F/T)}{\\partial T})_V = -\\frac{U}{T^2}$\n",
    "\n",
    "$(\\frac{\\partial (G/T)}{\\partial T})_P = -\\frac{H}{T^2}$"
   ]
  },
  {
   "cell_type": "markdown",
   "id": "2fe7c393-13a9-4c99-a113-b64069329848",
   "metadata": {},
   "source": [
    "# 2. Examples"
   ]
  },
  {
   "cell_type": "markdown",
   "id": "170e47f4-f05e-4b62-9daa-20bbc252c027",
   "metadata": {},
   "source": [
    "## 2.1. [Eremin Example 5-1]\n",
    "\n",
    "Internal energy of a system is given as a function of its entropy and volume, $U(S,V)$. Compute themperature and heat capacity of this system.\n",
    "\n",
    "**Solution**"
   ]
  },
  {
   "cell_type": "markdown",
   "id": "b9fc2c96-ae6f-4437-a5f0-8591040b5631",
   "metadata": {},
   "source": [
    "From the equation $dU = TdS − PdV$ we obtain directly:\n",
    "\n",
    "$(\\frac{\\partial U}{\\partial S})_V = T$\n",
    "\n",
    "The heat capacity is:\n",
    "\n",
    "$C_{V} = (\\frac{\\partial U}{\\partial T})_V$\n",
    "\n",
    "Using the chain rule, we then find:\n",
    "\n",
    "$C_{V} = (\\frac{\\partial U}{\\partial T})_V = (\\frac{\\partial U}{\\partial S})_V  (\\frac{\\partial S}{\\partial T})_V$\n",
    "\n",
    "We can also use the property:\n",
    "\n",
    "$(\\frac{\\partial S}{\\partial T})_V  =  ((\\frac{\\partial T}{\\partial S})_V )^{-1} $ \n",
    "\n",
    "Using Maxwell's equations:\n",
    "\n",
    "$(\\frac{\\partial U}{\\partial S})_V = T$\n",
    "\n",
    "and \n",
    "\n",
    "$(\\frac{\\partial S}{\\partial T})_V  =  ((\\frac{\\partial T}{\\partial S})_V )^{-1} = ((\\frac{\\partial^2 U}{\\partial S^2})_V )^{-1}   $\n",
    "\n",
    "$C_{V} = (\\frac{\\partial U}{\\partial S})_V  (\\frac{\\partial S}{\\partial T})_V = T ((\\frac{\\partial^2 U}{\\partial S^2})_V )^{-1} =  (\\frac{\\partial U}{\\partial S})_V  ((\\frac{\\partial^2 U}{\\partial S^2})_V )^{-1} $"
   ]
  },
  {
   "cell_type": "markdown",
   "id": "6c2eca69-c9d6-47ec-8375-a248f4f13091",
   "metadata": {},
   "source": [
    "## 2.2. [Eremin Example 5-2]\n",
    "\n",
    "Using the fundamental equations of thermodynamics, find the dependence of enthalpy on pressure at constant temperature: a) for an arbitrary system; b) for the ideal gas.\n",
    "\n",
    "**Solution**"
   ]
  },
  {
   "cell_type": "markdown",
   "id": "3ede3558-b0e8-4a73-844e-8fa01f77fff3",
   "metadata": {},
   "source": [
    "Note that we can not uses the equation\n",
    "\n",
    "$(\\frac{\\partial H}{\\partial P})_S = V$ \n",
    "\n",
    "directly, because it works only for the constant entropy case (e.g. adiabatic process)\n",
    "\n",
    "Instead, we start from the fundamental equation: $dH = TdS + VdP$\n",
    "\n",
    "Divide both sides by $dP$ and applying the constant temperature condition to the resulting derivatives, we obtain:\n",
    "\n",
    "$(\\frac{\\partial H}{\\partial P})_T = T (\\frac{\\partial S}{\\partial P})_T + V$\n",
    "\n",
    "using one of the Maxwell's equations, the right-hand side becomes:\n",
    "\n",
    "$(\\frac{\\partial H}{\\partial P})_T = T (\\frac{\\partial S}{\\partial P})_T + V = - T (\\frac{\\partial V}{\\partial T})_P + V $ \n",
    "\n",
    "a) so in general case:\n",
    "\n",
    "$(\\frac{\\partial H}{\\partial P})_T = - T (\\frac{\\partial V}{\\partial T})_P + V $ \n",
    "\n",
    "b) for the ideal gas we have: $V = \\frac{n R T}{P}$, so:\n",
    "\n",
    "$(\\frac{\\partial V}{\\partial T})_P = \\frac{n R}{P}$\n",
    "\n",
    "$T (\\frac{\\partial V}{\\partial T})_P = \\frac{n R T}{P} = V$\n",
    "\n",
    "$(\\frac{\\partial H}{\\partial P})_T = - T (\\frac{\\partial V}{\\partial T})_P + V = -V + V = 0$ \n"
   ]
  },
  {
   "cell_type": "markdown",
   "id": "d784c390-95f5-4afa-bb5e-d3e331052f01",
   "metadata": {},
   "source": [
    "## 2.3. \n",
    "\n",
    "Using the fundamental equations of thermodynamics, prove the Gibbs-Helmholtz equations\n",
    "\n",
    "**Solution**\n",
    "\n",
    "For instance, we want to prove:\n",
    "\n",
    "$(\\frac{\\partial (F/T)}{\\partial T})_V = -\\frac{U}{T^2}$\n",
    "\n",
    "Using the rules of differentiation of a fraction, we get:\n",
    "\n",
    "$\\frac{  (\\frac{\\partial F}{\\partial T})_V T - F }{T^2} $\n",
    "\n",
    "Using one of the Maxwell's equation, we get:\n",
    "\n",
    "$\\frac{  -S T - F }{T^2} $\n",
    "\n",
    "Using the definition of $F = U - TS$, we get:\n",
    "\n",
    "$\\frac{  -S T - U + TS }{T^2} = - \\frac{- U }{T^2}$"
   ]
  },
  {
   "cell_type": "markdown",
   "id": "0ba23098-cdee-423d-a2c9-6115009cd9e7",
   "metadata": {},
   "source": [
    "## 2.4. [Eremin Example 5-3]\n",
    "\n",
    "Express the derivatives $(\\frac{\\partial S}{\\partial U})_V$ and $(\\frac{\\partial S}{\\partial V})_U$ via other thermodynamic parameters"
   ]
  },
  {
   "cell_type": "markdown",
   "id": "a559d4b1-4d2e-49ef-8b05-b74446ac9873",
   "metadata": {},
   "source": [
    "## 2.5. [Eremin Example 5-4]\n",
    "\n",
    "Two moles of helium are heated from 100 to 200 Celsius under pressure of p = 1 atm. Assuming He behaves as an ideal gas, compute the change of Gibbs' free energy in this process. It is known that $S_{373}^{\\theta} = 131.7$ J/(mol*K)."
   ]
  },
  {
   "cell_type": "markdown",
   "id": "ee30d392-a38b-490f-9029-f0823ecc9ba5",
   "metadata": {},
   "source": [
    "# 3. Problems"
   ]
  },
  {
   "cell_type": "markdown",
   "id": "65a36551-da48-4d8f-ad38-161c9faf5b32",
   "metadata": {},
   "source": [
    "# 4. Answers"
   ]
  },
  {
   "cell_type": "code",
   "execution_count": null,
   "id": "3d55d25c-fbdf-4147-8930-341553df688a",
   "metadata": {},
   "outputs": [],
   "source": []
  }
 ],
 "metadata": {
  "kernelspec": {
   "display_name": "Python 3 (ipykernel)",
   "language": "python",
   "name": "python3"
  },
  "language_info": {
   "codemirror_mode": {
    "name": "ipython",
    "version": 3
   },
   "file_extension": ".py",
   "mimetype": "text/x-python",
   "name": "python",
   "nbconvert_exporter": "python",
   "pygments_lexer": "ipython3",
   "version": "3.9.19"
  }
 },
 "nbformat": 4,
 "nbformat_minor": 5
}
