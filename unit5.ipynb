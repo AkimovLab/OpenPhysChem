{
 "cells": [
  {
   "cell_type": "markdown",
   "id": "c532c918-77ae-498d-a9cc-7379130264b0",
   "metadata": {},
   "source": [
    "# **2-nd law of thermodynamics: Entropy, Helmholtz, and Gibbs free energies. Spontaneous processes and their directionality. 3-rd law of thermodynamics: Absolute entropies.**\n",
    "\n",
    "# 1. Theory"
   ]
  },
  {
   "cell_type": "markdown",
   "id": "88aa7857-ce4a-462d-9031-ced558c45080",
   "metadata": {},
   "source": [
    "# 2. Examples\n",
    "\n",
    "## 2.1. [Eremin Example 4-1]\n",
    "\n",
    "Determine the dependence of entropy on volume for a thermodynamic system that described by the equation of the state (for one mole)\n",
    "\n",
    "$(p + \\frac{a}{V^2})(V - b) = RT$"
   ]
  },
  {
   "cell_type": "markdown",
   "id": "ac11c3a4-7dd7-40d9-a8d4-9beb676f584e",
   "metadata": {},
   "source": [
    "**Solution**\n",
    "\n",
    "Solve for P:\n",
    "\n",
    "$P = \\frac{RT}{V-b} - \\frac{a}{V^2}$\n",
    "\n",
    "Compute the derivative:\n",
    "\n",
    "$(\\frac{\\partial P}{\\partial T})_V = \\frac{R}{V-b}$\n",
    "\n",
    "The entropy change is computed as:\n",
    "\n",
    "$\\Delta S = \\int_{V_1}^{V_2} (\\frac{\\partial P}{\\partial T})_V dV = \\int_{V_1}^{V_2} \\frac{R}{V-b} dV = R ln(\\frac{V_2-b}{V_1-b}) $"
   ]
  },
  {
   "cell_type": "markdown",
   "id": "74b5ff52-7c0e-498e-96e1-8d83f3d95b3f",
   "metadata": {},
   "source": [
    "## 2.2. [Eremin Example 4-2]\n",
    "\n",
    "Calculate the change in entropy when 0.7 mole of monoclinic sulfur is heated from 25 to 200 Celsius at 1 atm pressure. Molar heat capacity of sulfur is given by:\n",
    "\n",
    "$C_{p,m}(S(s)) = 23.64$ &nbsp; $J \\times mol^{-1}K^{-1}$,\n",
    "\n",
    "$C_{p,m}(S(l)) = 35.73 + 1.17 \\times 10^{-3} T$ &nbsp; $J \\times mol^{-1}K^{-1}$\n",
    "\n",
    "The melting temperature of monoclinic sulfur is 119 Celsius, the specific heat of melting 45.2 J/g\n",
    "\n",
    "**Solution**\n",
    "\n",
    "The total change of entropy $\\Delta S$ is composed on entropy changes of three processes:\n",
    "\n",
    "* heating the solid from $T_1 = 25$ Celsius to the melting point $T_2 = 119$ Celsius, $\\Delta S_1 = n \\int_{T_1}^{T_2} \\frac{C_{p,m}(s)}{T} dT$\n",
    "\n",
    "because the solid sulfur's heat capacity is constants, the integral becomes:\n",
    "\n",
    "$n \\int_{T_1}^{T_2} \\frac{C_{p,m}(s)}{T} dT = n C_{p,m}(s) ln(\\frac{T_2}{T_1})$\n",
    "\n",
    "* melting the solid sulfur at $T_2 = 119 Celsius$\n",
    "\n",
    "$\\Delta S_2 = m \\frac{Q_{s}}{T_2} $\n",
    "\n",
    "* heating the liquid from the melting point $T_2 = 119$ Celsius to the desired temperature $T_3 = 200$ Celsius\n",
    "\n",
    "In this case, heat capacity depends on temperature: $C_{p,m}(l) = a + b T$ so\n",
    "\n",
    "$\\Delta S_3 = n \\int_{T_2}^{T_3} \\frac{C_{p,m}(l)}{T} dT = a ln(\\frac{T_3}{T_2}) + b(T_3 - T_2)$"
   ]
  },
  {
   "cell_type": "code",
   "execution_count": 5,
   "id": "b56898e3-4c64-4863-9c88-675c89881eb1",
   "metadata": {},
   "outputs": [
    {
     "name": "stdout",
     "output_type": "stream",
     "text": [
      "dS = 11.879416120850149 J/K\n"
     ]
    }
   ],
   "source": [
    "import math \n",
    "\n",
    "n = 0.7 # moles\n",
    "T1 = 25 + 273.15 # K\n",
    "T2 = 119 + 273.15 # K melting temperature\n",
    "T3 = 200 + 273.15 # K\n",
    "Cpm_solid = 23.64 # J / mol * K \n",
    "Q_melt = 45.2 # J/g  melting heat \n",
    "m = 32.0 * n # molar mass of sulfur\n",
    "\n",
    "a = 35.73 \n",
    "b = 1.17e-3 \n",
    "\n",
    "dS1 = n * Cpm_solid * math.log(T2 / T1)\n",
    "dH = m * Q_melt \n",
    "\n",
    "dS2 = dH / T2 \n",
    "\n",
    "dS3 = n * ( a * math.log(T3/T2) + b * (T3 - T2) )\n",
    "\n",
    "dS = dS1 + dS2 + dS3\n",
    "\n",
    "print(F\"dS = {dS} J/K\")"
   ]
  },
  {
   "cell_type": "markdown",
   "id": "decfda68-3033-4d36-affd-ee14f49e7112",
   "metadata": {},
   "source": [
    "## 2.3. [Eremin Example 4-3]\n",
    "\n",
    "Calculate the change in entropy of 1000 g of water as a result of its freezing at -5 Celsius. The heat of ice melting at 0 Celsius is equal to 6008 J/mol. The heat capacities of ice and water are 34.7 and 75.3 J/(mol  K), respectively. Explain why the process of freezing is spontanous even though the entropy of the systems decreases when freezing."
   ]
  },
  {
   "cell_type": "markdown",
   "id": "f3bb361e-8fbe-4b33-8692-121ffbb15601",
   "metadata": {},
   "source": [
    "# 3. Problems\n",
    "\n",
    "## 3.1. [Eremin 4-1]\n",
    "\n",
    "Give an example of thermodynamic process, which can be carried out as a reversible and irreversible. Calculate Changes in the entropy of the system and the environment in in both cases."
   ]
  },
  {
   "cell_type": "markdown",
   "id": "10281532-5621-4840-bc95-37538992f09c",
   "metadata": {},
   "source": [
    "## 3.2. [Eremin 4-3]\n",
    "\n",
    "Calculate entropy of a mole of neon at 500 K if at 298 K and the same volume, neon's entropy is 146.2 J/(mol. K)."
   ]
  },
  {
   "cell_type": "markdown",
   "id": "256e855d-944a-46a4-9ec5-bccdb11985c4",
   "metadata": {},
   "source": [
    "## 3.3. [Eremin 4-4]\n",
    "\n",
    "Calculate the entropy change when heating 11.2 L of nitrogen from 0 to 50 °C and simultaneously reducing pressure from 1 atm to 0.01 Atm. "
   ]
  },
  {
   "cell_type": "markdown",
   "id": "3858efe0-c96e-4e33-ac58-d0341bddf843",
   "metadata": {},
   "source": [
    "## 3.4. [Eremin 4-5]\n",
    "\n",
    "One mole of helium at 100 °C and 1 atm is mixed with 0.5 mol of neon at 0 °C and 1 atm. Determine the change in entropy if the finite pressure is 1 atm."
   ]
  },
  {
   "cell_type": "markdown",
   "id": "95264d1e-5435-4b24-a52a-b2b96b2ea119",
   "metadata": {},
   "source": [
    "## 3.5. [Eremin 4-6]\n",
    "\n",
    "Calculate the entropy change in the result of formation of $1 m^3$ of air from nitrogen and oxygen (0.2 mole fraction) at a temperature of 25 °C and pressure of 1 atm."
   ]
  },
  {
   "cell_type": "markdown",
   "id": "26ebbc45-a792-4b05-882b-83d5e40bc9e6",
   "metadata": {},
   "source": [
    "## 3.6. [Eremin 4-7]\n",
    "\n",
    "Three moles of an ideal monatomic gas (C_V = 3.0 cal/(mol K)) with initial temperature and pressure of $T_1 = 350 K$ and $P_1 = 5.0 atm$ are expanded reversible and adiabatically to a pressure of $P_2 = 1.0 atm$. Calculate the final temperature, volume, the work performed on the system, as well as the changes of internal energy, enthalpy and entropy in this process."
   ]
  },
  {
   "cell_type": "markdown",
   "id": "ea5be34c-20b9-435b-898f-bdde3a70b429",
   "metadata": {},
   "source": [
    "## 3.7. [Eremin 4-8]\n",
    "\n",
    "Calculate the entropy change when 0.4 mol of sodium chloride are heated from 20 to 850 °C. The molar heat capacity of sodium chloride is given by:\n",
    "\n",
    "$C_{p,m}(NaCl(s)) = 45.94 + 16.32 \\times 10^{-3}T$ &nbsp; $J mol^{-1} K^{-1}$\n",
    "\n",
    "$C_{p,m}(NaCl(l)) = 66.53 J mol^{-1} K^{-1}$\n",
    "\n",
    "The melting point of sodium chloride is 800 °C, The heat of melting is 31.0 kJ/mol."
   ]
  },
  {
   "cell_type": "markdown",
   "id": "7951c448-ae0b-42ba-a1db-96f74ff8dc8f",
   "metadata": {},
   "source": [
    "## 3.8 [Eremin 4-9]\n",
    "\n",
    "Calculate the entropy change when 5 kg of water at 80 °C are mixed with 10 kg of water at 20 °C. The specific heat capacity of water should be taken as follows: $C_p(H_2O) = 4.184 J g^{-1} K^{-1}$.\n"
   ]
  },
  {
   "cell_type": "markdown",
   "id": "ddb7565e-507d-4db8-9c37-10fc0e5e3e74",
   "metadata": {},
   "source": [
    "## 3.9. [Eremin 4-10]\n",
    "\n",
    "Calculate the entropy change when 200 g of ice at the temperature of 0 °C is added to 200 g of water at  90 °C in an isolated vessel. Heat of melting of ice is 6.0 kJ/mol."
   ]
  },
  {
   "cell_type": "markdown",
   "id": "f4e71cb5-2356-424e-bbc9-561f50c9dec9",
   "metadata": {},
   "source": [
    "## 3.10. [Eremin 4-11]\n",
    "\n",
    "For a certain solid body the expansion coefficient was found to depend on pressure as $(\\frac{\\partial V}{\\partial T})_P = a + b P + c P^2$ in the pressure interval between $P_1$ and $P_2$. How much will the entropy of this body decrease when the system is compressed from pressure $P_1$ to pressure $P_2$?"
   ]
  },
  {
   "cell_type": "markdown",
   "id": "985eb495-ccbc-4266-bf34-f5e54578d766",
   "metadata": {},
   "source": [
    "## 3.11. [Eremin 4-12]\n",
    "\n",
    "Find the entropy change of n moles of an idea gas if it expand isothermally from pressure $P_1$ to pressure $P_2$: a) reversible; b) against external pressure $P < P_2$."
   ]
  },
  {
   "cell_type": "markdown",
   "id": "5db33865-4208-41fc-8de3-c8750f7cf216",
   "metadata": {},
   "source": [
    "## 3.12. [Eremin 4-13]\n",
    "\n",
    "Write down the expression for calculation of absolute entropy of one mole of water at temperature of 300 Celsius and pressure of 2 atm."
   ]
  },
  {
   "cell_type": "markdown",
   "id": "f4ee3831-948b-498f-88fb-fa6ac7aafa21",
   "metadata": {},
   "source": [
    "## 3.13. [Eremin 4-14]\n",
    "\n",
    "Draw a graph of the standard entropy of water from temperature in the range from 0 to 400 K"
   ]
  },
  {
   "cell_type": "markdown",
   "id": "1a990a0c-2bde-4dcc-be76-a934f52c2a7e",
   "metadata": {},
   "source": [
    "## 3.14. [Eremin 4-15]\n",
    "\n",
    "Write down the expression for the entropy of one mole of an ideal gas as a function of temperature and pressure (heat capacity is considered constant)."
   ]
  },
  {
   "cell_type": "markdown",
   "id": "05068f16-0042-4bde-b4c4-b1862f8de2b0",
   "metadata": {},
   "source": [
    "## 3.15. [Eremin 4-16]\n",
    "\n",
    "Determine the dependence of entropy on volume for a thermodynamic system that is described by the equation of state (for one mole):\n",
    "\n",
    "$(P + \\frac{a}{TV^2})(V-b) = R T$"
   ]
  },
  {
   "cell_type": "markdown",
   "id": "4d643bc6-7a4d-43dd-aa0c-2566ac023924",
   "metadata": {},
   "source": [
    "## 3.16. [Eremin 4-17]\n",
    "\n",
    "Determine the dependence of entropy on volume for a thermodynamic system that is described by the equation of state (for one mole):\n",
    "\n",
    "$PV = RT (1 + \\frac{b}{V} + \\frac{c}{V^2})$\n",
    "\n"
   ]
  },
  {
   "cell_type": "markdown",
   "id": "ea2e4cd1-88b7-4b28-bc63-d8f66f950045",
   "metadata": {},
   "source": [
    "## 3.17. [Eremin 4-18]\n",
    "\n",
    "One mole of gas is described by the following equation of state: $(P + f(V))(V-b) = RT$, where $f(V)$ is some function that does not depends on the temperature. Calculate the change entropy of the gas when it undergoes an irreversible isothermal expansion from volume $V_1$ to volume $V_2$.\n",
    "\n"
   ]
  },
  {
   "cell_type": "markdown",
   "id": "a34986f8-d861-4d1b-8b0f-b86e3fc8952f",
   "metadata": {},
   "source": [
    "## 3.18. [Eremin 4-19]\n",
    "\n",
    "Calculate the entropy change of 1000 g methanol as a result of its freezing at -105 °C. Heat of melting of solid methanol at -98 °C (melting temperature) is 3160 J/mol. Heat capacity of solid and liquid methanol are equal to 55.6 and 81.6 J/(mol. K), respectively. Explain why entropy at freezing decreases, although the process of spontaneous."
   ]
  },
  {
   "cell_type": "markdown",
   "id": "9d936a35-2b37-4646-9654-b838c1ce7717",
   "metadata": {},
   "source": [
    "# 4. Answers\n"
   ]
  },
  {
   "cell_type": "code",
   "execution_count": null,
   "id": "aed45348-5d10-49d0-aa00-9d9ca43c43d8",
   "metadata": {},
   "outputs": [],
   "source": []
  }
 ],
 "metadata": {
  "kernelspec": {
   "display_name": "Python 3 (ipykernel)",
   "language": "python",
   "name": "python3"
  },
  "language_info": {
   "codemirror_mode": {
    "name": "ipython",
    "version": 3
   },
   "file_extension": ".py",
   "mimetype": "text/x-python",
   "name": "python",
   "nbconvert_exporter": "python",
   "pygments_lexer": "ipython3",
   "version": "3.9.19"
  }
 },
 "nbformat": 4,
 "nbformat_minor": 5
}
