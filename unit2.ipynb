{
 "cells": [
  {
   "cell_type": "markdown",
   "id": "5a66e370-8de8-4c54-9ac0-44424ac9f2d0",
   "metadata": {},
   "source": [
    "# **Basic ideas of molecular-kinetic theory (MKT) of gases. Critical states. Math review: Differentiation.**\n",
    "\n",
    "# 1. Theory"
   ]
  },
  {
   "cell_type": "markdown",
   "id": "c7ddee5b-ee57-44ba-a798-97f0036f8fef",
   "metadata": {},
   "source": [
    "# 2. Examples"
   ]
  },
  {
   "cell_type": "markdown",
   "id": "62cbbd5e-01c3-4fbd-a45b-c4ad886942c3",
   "metadata": {},
   "source": [
    "# 3. Problems"
   ]
  },
  {
   "cell_type": "markdown",
   "id": "f85390f3-0753-40ab-b4de-65f82f756eaf",
   "metadata": {},
   "source": [
    "# 4. Solutions"
   ]
  },
  {
   "cell_type": "code",
   "execution_count": null,
   "id": "d41a515e-cbf9-4edc-a25d-bfb983447027",
   "metadata": {},
   "outputs": [],
   "source": []
  }
 ],
 "metadata": {
  "kernelspec": {
   "display_name": "Python 3 (ipykernel)",
   "language": "python",
   "name": "python3"
  },
  "language_info": {
   "codemirror_mode": {
    "name": "ipython",
    "version": 3
   },
   "file_extension": ".py",
   "mimetype": "text/x-python",
   "name": "python",
   "nbconvert_exporter": "python",
   "pygments_lexer": "ipython3",
   "version": "3.9.19"
  }
 },
 "nbformat": 4,
 "nbformat_minor": 5
}
