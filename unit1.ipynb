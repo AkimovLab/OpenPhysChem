{
 "cells": [
  {
   "cell_type": "markdown",
   "id": "b62fca79-a69d-4f85-90dd-a0b32bc767ba",
   "metadata": {},
   "source": [
    "# 1. Theory"
   ]
  },
  {
   "cell_type": "markdown",
   "id": "eac003e4-d1ac-4fab-a21b-be9aff1e5527",
   "metadata": {},
   "source": [
    "# 2. Problems \n",
    "\n",
    "## 2.1.\n",
    "\n",
    "Give an example of a thermodynamic process that can be done as reversible, and irreversible. Name one function of state and one function of transition for this process\n",
    "\n",
    "\n",
    "## 2.2.\n",
    "\n",
    "Give examples of systems with the relaxation times on the order of: a) seconds; b) hours; c) decades.\n",
    "\n",
    "\n",
    "## 2.3.\n",
    "\n",
    "Prove that in the limit of large volumes the first Diterichi equation reduces to the perfect gas equation of state.\n",
    "\n",
    "\n",
    "## 2.4.\n",
    "\n",
    "Find the critical parameters and the reduced equations of state for gases: (a) Van der Waals; b) Bertlo."
   ]
  },
  {
   "cell_type": "markdown",
   "id": "0952cfbd-d2c3-4993-9254-47aeae22084f",
   "metadata": {},
   "source": [
    "# 3. Answers"
   ]
  },
  {
   "cell_type": "markdown",
   "id": "25f1308c-4049-4ece-a73f-06770c0262a5",
   "metadata": {},
   "source": [
    "# 4. References and Credits\n",
    "\n",
    "* a lot of this material is the translation of the [website of Prof. Eremin from Moscow State University](https://www.chem.msu.ru/rus/teaching/eremin1/1-1.html)"
   ]
  },
  {
   "cell_type": "code",
   "execution_count": null,
   "id": "e1cf31c8-a119-4a2f-a546-c67507b97bc6",
   "metadata": {},
   "outputs": [],
   "source": []
  }
 ],
 "metadata": {
  "kernelspec": {
   "display_name": "Python 3 (ipykernel)",
   "language": "python",
   "name": "python3"
  },
  "language_info": {
   "codemirror_mode": {
    "name": "ipython",
    "version": 3
   },
   "file_extension": ".py",
   "mimetype": "text/x-python",
   "name": "python",
   "nbconvert_exporter": "python",
   "pygments_lexer": "ipython3",
   "version": "3.9.19"
  }
 },
 "nbformat": 4,
 "nbformat_minor": 5
}
