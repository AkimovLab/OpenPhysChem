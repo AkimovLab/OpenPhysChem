{
 "cells": [
  {
   "cell_type": "markdown",
   "id": "4adf0e62-1a4c-42f9-9e85-e5e56933218b",
   "metadata": {},
   "source": [
    "#  **1-st law of thermodynamics and thermochemistry: internal energy and enthalpies of phase changes and chemical reactions. Hess’s law.**\n",
    "\n",
    "# 1. Theory"
   ]
  },
  {
   "cell_type": "markdown",
   "id": "1d685503-ebca-462b-834f-22e3f419bb69",
   "metadata": {},
   "source": [
    "# 2. Examples"
   ]
  },
  {
   "cell_type": "markdown",
   "id": "5346f6b3-23d1-4160-955d-966813f20b9f",
   "metadata": {},
   "source": [
    "# 3. Problems\n",
    "\n",
    "## 3.1.\n",
    "\n",
    "Gas, expanding from 10 to 16 liters at constant pressure of 101.3 kPa, absorbs 126 J heat. Determine the change in the internal energy of the gas.\n",
    "\n",
    "## 3.2.\n",
    "\n",
    "Determine the change in internal energy, the amount of heat and work performed during a reversible isothermal expansion of nitrogen gas from 0.5 up to 4 $m^3$ (the initial conditions are: temperature 26.8 Celsius, pressure 93.2 kPa).\n",
    "\n",
    "## 3.3.\n",
    "\n",
    "One mole of the perfect gas taken at 25 Celsius and 100 atm, expands reversible and isothermally to pressure of 5 atm. Calculate the work, absorbed by heat, $\\Delta U$, $\\Delta H$\n",
    "\n",
    "## 3.4.\n",
    "\n",
    "Calculate the change of enthalpy of oxygen gas (described as an ideal gas) during the isobaric expansion from 80 to 200 L and normal atmospheric pressure.\n",
    "\n",
    "## 3.5.\n",
    "\n",
    "How much heat is needed for temperature of 16 g of oxygen gas to increase from 300 to 500 K at pressure of 1 atm? How will the internal energy change during this process?\n",
    "\n",
    "## 3.6.\n",
    "\n",
    "Explain why for any thermodynamic system the following inequality is satisfied: $C_p$ > $C_v$\n",
    "\n",
    "## 3.7.\n",
    "\n",
    "A kettle containing 1 kg of boiling water is heat until the full evaporation of water at normal pressure. Compute work, heat, $\\Delta U$, $\\Delta H$ for this process. The molar heat of water evaporation is 40.6 kJ/mol.\n",
    "\n",
    "## 3.8.\n",
    "\n",
    "Determine the final temperature and work needed for an adiabatic compression of nitrogengas from 10 to 1 L if the initial temperature and pressure of the gas are 26.8 Celsius and 101.3 kPa, respectively.\n",
    "\n",
    "## 3.9.\n",
    "\n",
    "Three moles of the ideal monoatomic gas ($C_V = 3.0 cal mol^{-1} K^{-1}$ ) expand reversibly and adiabatically from $T_1 = 350 K$ and $P_1 = 5 atm$ to $P_2 = 1 atm$. Calculate the final temperature and volume of the gas. Also compute the work, internal energy change, and enthalpy change in this process.\n",
    "\n",
    "## 3.10.\n",
    "\n",
    "A system contains 0.5 mole of an ideal monatomic gas ($C_V = 3.0 cal mol^{-1} K^{-1}$) at $P_1 = 10 atm$ and $V_1 = 1 L$. The gas expands reversibly and adiabatically to pressure of $P_2 = 1 atm$. Calculate the initial and finite temperature, final volume, work done, internal energy and enthalpy changes in this process. Also calculate these values for the corresponding isothermal process.\n",
    "\n",
    "## 3.11.\n",
    "\n",
    "Calculate the amount of heat necessary for heating air in the apartment with the total volume of 600 $m^3$ from 20 to 25 Celsius. Assume that air is a perfect two-atomic gas at normal pressure at the initial temperature. Find $\\Delta U$ and $Delta H$ for the process of heating the air.\n",
    "\n",
    "## 3.12.\n",
    "\n",
    "Human body on average releases $10^4$ kJ per day thanks to metabolic processes. The main mechanism for the loss of this energy is water evaporation. What mass of water should the body evaporate dayly to maintain constant temperature? The specific heat of water evaporation is $2260 J g^{-1}$. By how many degrees would the body’s temperature increase if the body was an isolated system? Assume that the average weight of a person is 65 kg, and the body’s heat capacity is equal to that of liquid water.\n",
    "\n",
    "## 3.13.\n",
    "\n",
    "One mole bromine vapor condenses into a liquid reversibly and isothermally at 59 Celsius. Calculate work, heat, change of internal energy and enthalpy in this process. The specific heat of bromine evaporation at 59 Celsius is 184.1 J/g.\n",
    "\n",
    "## 3.14.\n",
    "\n",
    "N/A yet\n",
    "\n",
    "## 3.15.\n",
    "\n",
    "Make up a cyclical four-stages process for an ideal gas. Describe this process in the p-V coordinates. Calculate the total change of the internal energy, as well as amount of heat released by gas, and the work done by gas.\n",
    "\n",
    "## 3.16.\n",
    "\n",
    "One mole of fluorocarbon is expanding reversibly and adiabatically twice in volume with the temperature dropping from 298.15 to 248.44 K. Calculate the value of isochoric heat capacity, $C_V$.\n",
    "\n",
    "## 3.17.\n",
    "\n",
    "N/A yet\n",
    "\n",
    "## 3.18.\n",
    "\n",
    "One mole of methane taken at 25 Celsius and 1 atm is heated at constant pressure up to doubling its volume. Molar heat capacity of methane is given by the expression:\n",
    "\n",
    "$C_p = 5.34 + 0.0115 T cal mol^{-1} K^{-1}$\n",
    "\n",
    "Calculate $\\Delta U$ and $\\Delta H$ for this process. Consider methane to be the ideal gas.\n",
    "\n",
    "## 3.19.\n",
    "\n",
    "Derive the equation for the reversible adiabatic compression of the non-ideal gas, if the equation of state for one mole of gas has the form of:\n",
    "\n",
    "$p (V - b) = R T$\n",
    "\n",
    "## 3.20.\n",
    "\n",
    "Using the equation of state and the first law of thermodynamics, derive the equation of the adiabat (equation for adiabatic process) for the van der Waals gas."
   ]
  },
  {
   "cell_type": "markdown",
   "id": "7b3a6c6a-91ce-4c69-872f-2a272aae8032",
   "metadata": {},
   "source": [
    "# 4. Answers"
   ]
  },
  {
   "cell_type": "code",
   "execution_count": null,
   "id": "12b93e07-f399-46a4-97ad-5e6fd733fedd",
   "metadata": {},
   "outputs": [],
   "source": []
  }
 ],
 "metadata": {
  "kernelspec": {
   "display_name": "Python 3 (ipykernel)",
   "language": "python",
   "name": "python3"
  },
  "language_info": {
   "codemirror_mode": {
    "name": "ipython",
    "version": 3
   },
   "file_extension": ".py",
   "mimetype": "text/x-python",
   "name": "python",
   "nbconvert_exporter": "python",
   "pygments_lexer": "ipython3",
   "version": "3.9.19"
  }
 },
 "nbformat": 4,
 "nbformat_minor": 5
}
